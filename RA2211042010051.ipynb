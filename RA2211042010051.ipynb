{
  "nbformat": 4,
  "nbformat_minor": 0,
  "metadata": {
    "colab": {
      "provenance": [],
      "authorship_tag": "ABX9TyMfg24ozHmZdQ/I3f4WEGeQ",
      "include_colab_link": true
    },
    "kernelspec": {
      "name": "python3",
      "display_name": "Python 3"
    },
    "language_info": {
      "name": "python"
    }
  },
  "cells": [
    {
      "cell_type": "markdown",
      "metadata": {
        "id": "view-in-github",
        "colab_type": "text"
      },
      "source": [
        "<a href=\"https://colab.research.google.com/github/CherryS0710/CherryS0710/blob/main/RA2211042010051.ipynb\" target=\"_parent\"><img src=\"https://colab.research.google.com/assets/colab-badge.svg\" alt=\"Open In Colab\"/></a>"
      ]
    },
    {
      "cell_type": "code",
      "execution_count": 2,
      "metadata": {
        "colab": {
          "base_uri": "https://localhost:8080/"
        },
        "id": "rF3Rdf_aGjsX",
        "outputId": "5a7a7527-ad5f-46e5-f180-6cc08124eedc"
      },
      "outputs": [
        {
          "output_type": "stream",
          "name": "stdout",
          "text": [
            "hi\n"
          ]
        }
      ],
      "source": [
        "print(\"hi\")"
      ]
    },
    {
      "cell_type": "code",
      "source": [
        "print('python is powerful')\n",
        "print('its easy maybe')"
      ],
      "metadata": {
        "colab": {
          "base_uri": "https://localhost:8080/"
        },
        "id": "UPTsj2VvNSZ8",
        "outputId": "55ad2874-56ed-4f17-d571-1c791bb507d7"
      },
      "execution_count": 9,
      "outputs": [
        {
          "output_type": "stream",
          "name": "stdout",
          "text": [
            "python is powerful\n",
            "its easy maybe\n"
          ]
        }
      ]
    },
    {
      "cell_type": "code",
      "source": [
        "print('Good morning!', end='')\n",
        "print('but the morning is not just good')"
      ],
      "metadata": {
        "colab": {
          "base_uri": "https://localhost:8080/"
        },
        "id": "4fhdrqPBNfJb",
        "outputId": "b92b73a6-f372-41c7-ecba-6754c4d3ae34"
      },
      "execution_count": 27,
      "outputs": [
        {
          "output_type": "stream",
          "name": "stdout",
          "text": [
            "Good morning!but the morning is not just good\n"
          ]
        }
      ]
    },
    {
      "cell_type": "code",
      "source": [
        "print('new yaer ', 2023 , 'see you soon', sep= '.')"
      ],
      "metadata": {
        "colab": {
          "base_uri": "https://localhost:8080/"
        },
        "id": "sTJvYtPON7To",
        "outputId": "491e21a4-cbba-4bfb-b453-6f3e13c90024"
      },
      "execution_count": 15,
      "outputs": [
        {
          "output_type": "stream",
          "name": "stdout",
          "text": [
            "new yaer .2023.see you soon\n"
          ]
        }
      ]
    },
    {
      "cell_type": "code",
      "source": [
        "number = 56\n",
        "name = \"Programiz\"\n",
        "print(5)\n",
        "print(number)\n",
        "print(name)"
      ],
      "metadata": {
        "colab": {
          "base_uri": "https://localhost:8080/"
        },
        "id": "1thWYLBtOhwt",
        "outputId": "2aa0c2d7-3153-4950-dd6a-0346cc20f374"
      },
      "execution_count": 16,
      "outputs": [
        {
          "output_type": "stream",
          "name": "stdout",
          "text": [
            "5\n",
            "56\n",
            "Programiz\n"
          ]
        }
      ]
    },
    {
      "cell_type": "code",
      "source": [
        "print('bts ' + 'is awesome')"
      ],
      "metadata": {
        "colab": {
          "base_uri": "https://localhost:8080/"
        },
        "id": "3VuK2HY2PK_F",
        "outputId": "5c69d86e-85bc-4121-a632-8cbc1c1c5a34"
      },
      "execution_count": 19,
      "outputs": [
        {
          "output_type": "stream",
          "name": "stdout",
          "text": [
            "bts is awesome\n"
          ]
        }
      ]
    },
    {
      "cell_type": "code",
      "source": [
        "num = input('Enter anumber: ')\n",
        "print('you entered: ',  num)\n",
        "print('data type of num: ', type(num))"
      ],
      "metadata": {
        "colab": {
          "base_uri": "https://localhost:8080/"
        },
        "id": "N9WKJEwmP2dl",
        "outputId": "106c68b4-bb70-4cac-df37-e75d581edf58"
      },
      "execution_count": 20,
      "outputs": [
        {
          "output_type": "stream",
          "name": "stdout",
          "text": [
            "Enter anumber: 2\n",
            "you entered:  2\n",
            "data type of num:  <class 'str'>\n"
          ]
        }
      ]
    },
    {
      "cell_type": "code",
      "source": [
        "print('Python')\n",
        "'''this is used for multiple line comment'''\n",
        "# print(\"single line comment )\n",
        "\n",
        "print('Django')"
      ],
      "metadata": {
        "colab": {
          "base_uri": "https://localhost:8080/"
        },
        "id": "IrZdxRMjRY3V",
        "outputId": "d3c10799-a4a4-48dd-fd13-bda3ac95674c"
      },
      "execution_count": 23,
      "outputs": [
        {
          "output_type": "stream",
          "name": "stdout",
          "text": [
            "Python\n",
            "Django\n"
          ]
        }
      ]
    },
    {
      "cell_type": "code",
      "source": [
        "#assign value to site_name variable\n",
        "site_name = 'programiz.pro'\n",
        "print(site_name)"
      ],
      "metadata": {
        "colab": {
          "base_uri": "https://localhost:8080/"
        },
        "id": "8PH9VvmDReFR",
        "outputId": "55f8c27a-60ea-49b3-b82f-e33e5c8c1297"
      },
      "execution_count": 24,
      "outputs": [
        {
          "output_type": "stream",
          "name": "stdout",
          "text": [
            "programiz.pro\n"
          ]
        }
      ]
    },
    {
      "cell_type": "code",
      "source": [
        "site_name = 'programiz.pro'\n",
        "print(site_name)\n",
        "site_name = 'apple.co'\n",
        "print(site_name)"
      ],
      "metadata": {
        "colab": {
          "base_uri": "https://localhost:8080/"
        },
        "id": "gTjdT8TQSs8w",
        "outputId": "52d503a4-45cd-4565-d0a3-ac7326ce010c"
      },
      "execution_count": 28,
      "outputs": [
        {
          "output_type": "stream",
          "name": "stdout",
          "text": [
            "programiz.pro\n",
            "apple.co\n"
          ]
        }
      ]
    },
    {
      "cell_type": "code",
      "source": [
        "a, b, c = 5, 3.6, 'bonjour'\n",
        "print(a)\n",
        "print(b)\n",
        "print(c)"
      ],
      "metadata": {
        "colab": {
          "base_uri": "https://localhost:8080/"
        },
        "id": "IoHlHjELThRu",
        "outputId": "87577b8f-4e55-4d21-979d-450d3108f474"
      },
      "execution_count": 29,
      "outputs": [
        {
          "output_type": "stream",
          "name": "stdout",
          "text": [
            "5\n",
            "3.6\n",
            "bonjour\n"
          ]
        }
      ]
    },
    {
      "cell_type": "code",
      "source": [
        "site1 = site2 = 'dope by jhope'\n",
        "print(site1)\n",
        "print(site2)"
      ],
      "metadata": {
        "colab": {
          "base_uri": "https://localhost:8080/"
        },
        "id": "DadyfD1mUEJP",
        "outputId": "7e2e63be-fb71-4d73-9182-7b0669f89260"
      },
      "execution_count": 30,
      "outputs": [
        {
          "output_type": "stream",
          "name": "stdout",
          "text": [
            "dope by jhope\n",
            "dope by jhope\n"
          ]
        }
      ]
    },
    {
      "cell_type": "code",
      "source": [],
      "metadata": {
        "id": "VaY_VbpNURfj"
      },
      "execution_count": null,
      "outputs": []
    }
  ]
}